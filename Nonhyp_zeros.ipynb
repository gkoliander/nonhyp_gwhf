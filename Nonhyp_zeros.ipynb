{
 "cells": [
  {
   "cell_type": "code",
   "execution_count": 1,
   "metadata": {
    "id": "nXM_1HJ8Uhw7"
   },
   "outputs": [],
   "source": [
    "from sympy import *\n",
    "from sympy.printing import latex"
   ]
  },
  {
   "cell_type": "code",
   "execution_count": 2,
   "metadata": {
    "id": "yIxFNM0HUrOq"
   },
   "outputs": [],
   "source": [
    "#Initialize symbols\n",
    "x, y = symbols('x y', real=True)\n",
    "r, s, t = symbols('r s t', real=True)\n",
    "H = symbols('H', real=True, commutative=True, cls=Function)\n",
    "\n",
    "#Define standard differentials\n",
    "dx = lambda f : diff(f,x)\n",
    "dy = lambda f : diff(f,y)\n",
    "du = lambda f : diff(f,u)\n",
    "dv = lambda f : diff(f,v)"
   ]
  },
  {
   "cell_type": "markdown",
   "metadata": {},
   "source": [
    "Define Wirtinger derivatives $\\partial = \\frac12( \\partial_x- i \\partial_y)$ and $\\bar \\partial = \\frac12(\\partial_x + i \\partial_y)$"
   ]
  },
  {
   "cell_type": "code",
   "execution_count": 3,
   "metadata": {
    "id": "yIxFNM0HUrOq"
   },
   "outputs": [],
   "source": [
    "wirtd = lambda f : (diff(f,x)-I*diff(f,y))/2\n",
    "wirtdbar = lambda f : (diff(f,x)+I*diff(f,y))/2"
   ]
  },
  {
   "cell_type": "markdown",
   "metadata": {},
   "source": [
    "Define twisted differentials\n",
    "$\\mathcal{D}_1F(z) = \\partial F(z) -  \\tfrac{\\bar z}{2}F(z)$ and $\\mathcal{D}_2F(z) = \\bar \\partial F(z) + \\tfrac{z}{2}F(z)$ "
   ]
  },
  {
   "cell_type": "code",
   "execution_count": 4,
   "metadata": {
    "id": "yIxFNM0HUrOq"
   },
   "outputs": [],
   "source": [
    "D1 = lambda f : (diff(f,x)-I*diff(f,y))/2-(x-I*y)/2*f\n",
    "D2 = lambda f : (diff(f,x)+I*diff(f,y))/2+(x+I*y)/2*f\n",
    "D1b = lambda f : (diff(f,x)+I*diff(f,y))/2-(x+I*y)/2*f\n",
    "D2b = lambda f : (diff(f,x)-I*diff(f,y))/2+(x-I*y)/2*f"
   ]
  },
  {
   "cell_type": "markdown",
   "metadata": {},
   "source": [
    "Formally, we need the twisted shift $\\mathcal{T}_{w}F_0(z)= F_0(z-w)e^{i \\mathrm{Im}(z \\bar w)}$.\n",
    "However, we can consider wlog only the case $w = 0$"
   ]
  },
  {
   "cell_type": "code",
   "execution_count": 5,
   "metadata": {
    "id": "yIxFNM0HUrOq"
   },
   "outputs": [],
   "source": [
    "Tw = lambda f : f "
   ]
  },
  {
   "cell_type": "markdown",
   "metadata": {},
   "source": [
    "Define $H$ and covariance matrix between \n",
    "\n",
    "$(\\xi(z), \\xi'(z), \\xi''(z)) := \n",
    "\\bigg( F(z), \\frac{\\mathcal{D}_1F(z)}{(-\\Delta H(0) + 1/2)^{1/2}}, \\frac{\\mathcal{D}_2F(z)}{(-\\Delta H(0) - 1/2)^{1/2}} \\bigg)$. \n",
    "\n",
    "and\n",
    "\n",
    "$(\\xi(0), \\xi'(0), \\xi''(0)) := \n",
    "\\bigg( F(0), \\frac{\\mathcal{D}_1F(0)}{(-\\Delta H(0) + 1/2)^{1/2}}, \\frac{\\mathcal{D}_2F(0)}{(-\\Delta H(0) - 1/2)^{1/2}} \\bigg)$. \n",
    "\n",
    "Here, the order of the Laguerre polynomial in $H$ can be changed. The code was tested for oders 1 to 5"
   ]
  },
  {
   "cell_type": "code",
   "execution_count": 6,
   "metadata": {
    "colab": {
     "base_uri": "https://localhost:8080/",
     "height": 124
    },
    "id": "kybRBLpvk_oe",
    "outputId": "a0bdff3b-63c9-48a2-ae53-067d12110169"
   },
   "outputs": [
    {
     "data": {
      "text/latex": [
       "$\\displaystyle \\left[\\begin{matrix}\\left(- x^{2} - y^{2} + 1\\right) e^{- \\frac{x^{2}}{2} - \\frac{y^{2}}{2}} & \\frac{\\sqrt{2} \\left(- x^{3} - i x^{2} y - x y^{2} + 2 x - i y^{3} + 2 i y\\right) e^{- \\frac{x^{2}}{2} - \\frac{y^{2}}{2}}}{2} & \\left(x - i y\\right) e^{- \\frac{x^{2}}{2} - \\frac{y^{2}}{2}}\\\\\\frac{\\sqrt{2} \\left(x^{3} - i x^{2} y + x y^{2} - 2 x - i y^{3} + 2 i y\\right) e^{- \\frac{x^{2}}{2} - \\frac{y^{2}}{2}}}{2} & \\frac{\\left(x^{4} + 2 x^{2} y^{2} - 4 x^{2} + y^{4} - 4 y^{2} + 2\\right) e^{- \\frac{x^{2}}{2} - \\frac{y^{2}}{2}}}{2} & \\frac{\\sqrt{2} \\left(- x^{2} + 2 i x y + y^{2}\\right) e^{- \\frac{x^{2}}{2} - \\frac{y^{2}}{2}}}{2}\\\\\\left(- x - i y\\right) e^{- \\frac{x^{2}}{2} - \\frac{y^{2}}{2}} & \\frac{\\sqrt{2} \\left(- x^{2} - 2 i x y + y^{2}\\right) e^{- \\frac{x^{2}}{2} - \\frac{y^{2}}{2}}}{2} & e^{- \\frac{x^{2}}{2} - \\frac{y^{2}}{2}}\\end{matrix}\\right]$"
      ],
      "text/plain": [
       "Matrix([\n",
       "[                                         (-x**2 - y**2 + 1)*exp(-x**2/2 - y**2/2), sqrt(2)*(-x**3 - I*x**2*y - x*y**2 + 2*x - I*y**3 + 2*I*y)*exp(-x**2/2 - y**2/2)/2,                          (x - I*y)*exp(-x**2/2 - y**2/2)],\n",
       "[sqrt(2)*(x**3 - I*x**2*y + x*y**2 - 2*x - I*y**3 + 2*I*y)*exp(-x**2/2 - y**2/2)/2,          (x**4 + 2*x**2*y**2 - 4*x**2 + y**4 - 4*y**2 + 2)*exp(-x**2/2 - y**2/2)/2, sqrt(2)*(-x**2 + 2*I*x*y + y**2)*exp(-x**2/2 - y**2/2)/2],\n",
       "[                                                 (-x - I*y)*exp(-x**2/2 - y**2/2),                           sqrt(2)*(-x**2 - 2*I*x*y + y**2)*exp(-x**2/2 - y**2/2)/2,                                    exp(-x**2/2 - y**2/2)]])"
      ]
     },
     "execution_count": 6,
     "metadata": {},
     "output_type": "execute_result"
    }
   ],
   "source": [
    "#H = laguerre_poly(order,x**2+y**2)*exp(-(x**2+y**2)*1/2)\n",
    "H = laguerre_poly(1,x**2+y**2)*exp(-(x**2+y**2)*1/2)\n",
    "\n",
    "\n",
    "DeltaH = wirtd(wirtdbar(H))\n",
    "DeltaH0 = DeltaH.subs([(x,0),(y,0)])\n",
    "\n",
    "Covxi = zeros(3, 3)\n",
    "Covxi[0,0] = Tw(H)\n",
    "Covxi[1,0] = Tw(D1(H)/sqrt(-DeltaH0+1/S(2)))\n",
    "Covxi[0,1] = -Tw(D1b(H)/sqrt(-DeltaH0+1/S(2)))\n",
    "Covxi[2,0] = Tw(D2(H)/sqrt(-DeltaH0-1/S(2)))\n",
    "Covxi[0,2] = -Tw(D2b(H)/sqrt(-DeltaH0-1/S(2)))\n",
    "Covxi[1,1] = -Tw(D1(D1b(H))/(-DeltaH0+1/S(2)))\n",
    "Covxi[1,2] = -Tw(D1(D2b(H))/sqrt(-DeltaH0+1/S(2))/sqrt(-DeltaH0-1/S(2)))\n",
    "Covxi[2,1] = -Tw(D1b(D2(H))/sqrt(-DeltaH0+1/S(2))/sqrt(-DeltaH0-1/S(2)))\n",
    "Covxi[2,2] = -Tw(D2(D2b(H))/(-DeltaH0-1/S(2)))\n",
    "\n",
    "Covxi = Covxi.applyfunc(simplify)\n",
    "Covxi"
   ]
  },
  {
   "cell_type": "markdown",
   "metadata": {},
   "source": [
    "Calculate the coefficients \n",
    "\n",
    "$c_{k,l} \n",
    "= \\frac{1}{\\pi^2}\\int_{\\mathbb{C}} \\int_{\\mathbb{C}} \\bigl|(-\\Delta H(0) + 1/2)|z|^2- (-\\Delta H(0) - 1/2)|w|^2\\bigr| L_k(|z|^2)\\, L_l(|w|^2)  \\,e^{-|z|^2-|w|^2} \\,dA(z) dA(w)$\n",
    "\n",
    "We substitute in the integral $|z|^2 = r$ and $|w^2|= s$ and thus get an additional factor of $\\pi^2$, i.e.,\n",
    "\n",
    " $c_{k,l} \n",
    "= \\int_{0}^{\\infty} \\int_{0}^{\\infty} \\bigl|(-\\Delta H(0) + 1/2)r- (-\\Delta H(0) - 1/2)s\\bigr| L_k(r)\\, L_l(s)  \\,e^{-r-s} \\,dr ds$"
   ]
  },
  {
   "cell_type": "code",
   "execution_count": 7,
   "metadata": {
    "colab": {
     "base_uri": "https://localhost:8080/",
     "height": 78
    },
    "id": "iL2sYsVUUvbZ",
    "outputId": "28e617c9-cd6a-434a-d97d-76bf6100ffe9"
   },
   "outputs": [
    {
     "data": {
      "text/latex": [
       "$\\displaystyle \\left[\\begin{matrix}\\frac{5}{3} & - \\frac{1}{9} & \\frac{8}{27}\\\\- \\frac{14}{9} & - \\frac{16}{27} & 0\\\\\\frac{8}{27} & - \\frac{8}{27} & - \\frac{8}{81}\\end{matrix}\\right]$"
      ],
      "text/plain": [
       "Matrix([\n",
       "[  5/3,   -1/9,  8/27],\n",
       "[-14/9, -16/27,     0],\n",
       "[ 8/27,  -8/27, -8/81]])"
      ]
     },
     "execution_count": 7,
     "metadata": {},
     "output_type": "execute_result"
    }
   ],
   "source": [
    "#Calculate coefficients\n",
    "#substitute t = r-(-DeltaH0-1/S(2))/(-DeltaH0+1/S(2))*s\n",
    "#i.e., r = (t+(-DeltaH0-1/S(2))/(-DeltaH0+1/S(2))*s)\n",
    "subsxt = ([(r,(t+(-DeltaH0-1/S(2))/(-DeltaH0+1/S(2))*s))])\n",
    "coeffs = zeros(3,3)\n",
    "for ii in range(0,3):\n",
    "  for jj in range(0,3):\n",
    "    my_integrand = abs((-DeltaH0+1/S(2))*r-(-DeltaH0-1/S(2))*s)*laguerre_poly(ii,r)*laguerre_poly(jj,s)*exp(-r-s)\n",
    "    coeffs[ii,jj] = integrate(my_integrand.subs(subsxt),(t,0,oo),(s,0,oo))\n",
    "    coeffs[ii,jj] = coeffs[ii,jj] + integrate(my_integrand.subs(subsxt),(t,-(-DeltaH0-1/S(2))/(-DeltaH0+1/S(2))*s,0),(s,0,oo))\n",
    "coeffs"
   ]
  },
  {
   "cell_type": "markdown",
   "metadata": {},
   "source": [
    "We define the expectations of Laguerre polynomials with Gaussian variables $\\alpha, \\beta, \\gamma, \\delta \\in \\{\\xi(z), \\xi'(z), \\xi''(z), \\xi(w), \\xi'(w), \\xi''(w)\\}$ according to Proposition 8.1, i.e.,\n",
    "\n",
    "$\n",
    "\\mathbb{E}[L_1(|\\alpha|^2) L_1(|\\beta|^2) L_1(|\\gamma|^2) L_1(|\\delta|^2)] = \n",
    "\\Big|\\mathbb{E}(\\alpha \\overline{\\gamma})\\mathbb{E}(\\beta \\overline{\\delta}) + \\mathbb{E}(\\alpha \\overline{\\delta}) \n",
    "\\mathbb{E}(\\beta \\overline{\\gamma} )\\Big|^2 \n",
    "$\n",
    "\n",
    "$ \\mathbb{E} [L_1(|\\alpha|^2) L_1(|\\beta|^2) L_2(|\\gamma|^2) ] = 2 \\left| \\mathbb{E}(\\alpha \\overline{\\gamma}) \\mathbb{E}(\\beta \\overline{\\gamma}) \\right|^2 $\n",
    "\n",
    "$ \\mathbb{E} [L_2(|\\alpha|^2) L_2(|\\gamma|^2 ) ] =  \\left| \\mathbb{E}(\\alpha \\overline{\\gamma})\\right|^4$"
   ]
  },
  {
   "cell_type": "code",
   "execution_count": 8,
   "metadata": {
    "id": "XzQ2BFfylUds"
   },
   "outputs": [],
   "source": [
    "LagE1 = lambda n1,n2,n3,n4 : abs(Covxi[n1,n3]*Covxi[n2,n4]+Covxi[n1,n4]*Covxi[n2,n3])**2\n",
    "LagE2 = lambda n1,n2,n3 : S(2)*abs(Covxi[n1,n3]*Covxi[n2,n3])**2\n",
    "LagE3 = lambda n1,n2 : abs(Covxi[n1,n2])**4\n"
   ]
  },
  {
   "cell_type": "markdown",
   "metadata": {},
   "source": [
    "We build the expectation $g(|z-w|^2) = \\mathbb{E}[\\phi(z)\\phi(w)]$ where\n",
    "\n",
    "$\\phi(z) = c_{1,0} L_1(|\\xi(z)|^2)L_1(|\\xi'(z)|^2) + c_{0,1}L_1(|\\xi(z)|^2)L_1(|\\xi''(z)|^2) + c_{1,1}L_1(|\\xi'(z)|^2)L_1(|\\xi''(z)|^2) + c_{0,0} L_2(|\\xi(z)|^2) + c_{2,0} L_2(|\\xi'(z)|^2) + c_{0,2} L_2(|\\xi''(z)|^2)$\n",
    "\n",
    "by using the expectations of Laguerre polynomials and explicit coefficients $c_{k,l}$ above"
   ]
  },
  {
   "cell_type": "code",
   "execution_count": 9,
   "metadata": {
    "colab": {
     "base_uri": "https://localhost:8080/",
     "height": 78
    },
    "id": "Lzw-Ez7Rst-K",
    "outputId": "404a7ef5-96b4-42c9-9c3b-fbc65ee523b8"
   },
   "outputs": [
    {
     "data": {
      "text/latex": [
       "$\\displaystyle \\frac{2 \\cdot \\left(2 x^{16} + 16 x^{14} y^{2} - 116 x^{14} + 56 x^{12} y^{4} - 812 x^{12} y^{2} + 2156 x^{12} + 112 x^{10} y^{6} - 2436 x^{10} y^{4} + 12936 x^{10} y^{2} - 15040 x^{10} + 140 x^{8} y^{8} - 4060 x^{8} y^{6} + 32340 x^{8} y^{4} - 75200 x^{8} y^{2} + 48325 x^{8} + 112 x^{6} y^{10} - 4060 x^{6} y^{8} + 43120 x^{6} y^{6} - 150400 x^{6} y^{4} + 193300 x^{6} y^{2} - 77836 x^{6} + 56 x^{4} y^{12} - 2436 x^{4} y^{10} + 32340 x^{4} y^{8} - 150400 x^{4} y^{6} + 289950 x^{4} y^{4} - 233508 x^{4} y^{2} + 62628 x^{4} + 16 x^{2} y^{14} - 812 x^{2} y^{12} + 12936 x^{2} y^{10} - 75200 x^{2} y^{8} + 193300 x^{2} y^{6} - 233508 x^{2} y^{4} + 125256 x^{2} y^{2} - 22110 x^{2} + 2 y^{16} - 116 y^{14} + 2156 y^{12} - 15040 y^{10} + 48325 y^{8} - 77836 y^{6} + 62628 y^{4} - 22110 y^{2} + 2091\\right) e^{- 2 x^{2} - 2 y^{2}}}{729}$"
      ],
      "text/plain": [
       "2*(2*x**16 + 16*x**14*y**2 - 116*x**14 + 56*x**12*y**4 - 812*x**12*y**2 + 2156*x**12 + 112*x**10*y**6 - 2436*x**10*y**4 + 12936*x**10*y**2 - 15040*x**10 + 140*x**8*y**8 - 4060*x**8*y**6 + 32340*x**8*y**4 - 75200*x**8*y**2 + 48325*x**8 + 112*x**6*y**10 - 4060*x**6*y**8 + 43120*x**6*y**6 - 150400*x**6*y**4 + 193300*x**6*y**2 - 77836*x**6 + 56*x**4*y**12 - 2436*x**4*y**10 + 32340*x**4*y**8 - 150400*x**4*y**6 + 289950*x**4*y**4 - 233508*x**4*y**2 + 62628*x**4 + 16*x**2*y**14 - 812*x**2*y**12 + 12936*x**2*y**10 - 75200*x**2*y**8 + 193300*x**2*y**6 - 233508*x**2*y**4 + 125256*x**2*y**2 - 22110*x**2 + 2*y**16 - 116*y**14 + 2156*y**12 - 15040*y**10 + 48325*y**8 - 77836*y**6 + 62628*y**4 - 22110*y**2 + 2091)*exp(-2*x**2 - 2*y**2)/729"
      ]
     },
     "execution_count": 9,
     "metadata": {},
     "output_type": "execute_result"
    }
   ],
   "source": [
    "EPhiPhi = 0\n",
    "EPhiPhi = EPhiPhi + coeffs[0,0]**2 * LagE3(0,0) + coeffs[2,0]**2 * LagE3(1,1) + coeffs[0,2]**2 * LagE3(2,2)\n",
    "EPhiPhi = EPhiPhi + coeffs[0,1]**2 * LagE1(0,2,0,2) + coeffs[1,0]**2 * LagE1(0,1,0,1) + coeffs[1,1]**2 * LagE1(1,2,1,2)\n",
    "EPhiPhi = EPhiPhi + 2*coeffs[0,0]*(coeffs[0,1]*LagE2(0,2,0) + coeffs[1,0]* LagE2(0,1,0) + coeffs[1,1] * LagE2(1,2,0) + coeffs[2,0] * LagE3(0,1) + coeffs[0,2] * LagE3(0,2))\n",
    "EPhiPhi = EPhiPhi + 2*coeffs[2,0]*(coeffs[0,1]*LagE2(0,2,1) + coeffs[1,0]* LagE2(0,1,1) + coeffs[1,1] * LagE2(1,2,1) + coeffs[0,2] * LagE3(1,2))\n",
    "EPhiPhi = EPhiPhi + 2*coeffs[0,2]*(coeffs[0,1]*LagE2(0,2,2) + coeffs[1,0]* LagE2(0,1,2) + coeffs[1,1] * LagE2(1,2,2))\n",
    "EPhiPhi = EPhiPhi + 2*coeffs[1,1]*(coeffs[0,1]*LagE1(0,2,1,2) + coeffs[1,0]* LagE1(0,1,1,2))\n",
    "EPhiPhi = EPhiPhi + 2*coeffs[1,0]*(coeffs[0,1]*LagE1(0,2,0,1))\n",
    "\n",
    "EPhiPhi = EPhiPhi.simplify()\n",
    "EPhiPhi"
   ]
  },
  {
   "cell_type": "markdown",
   "metadata": {},
   "source": [
    "Finally, we calculate $\\int_{\\mathbb{C}}g(|z|^2) \\,dA(z)$"
   ]
  },
  {
   "cell_type": "code",
   "execution_count": 10,
   "metadata": {
    "colab": {
     "base_uri": "https://localhost:8080/",
     "height": 51
    },
    "id": "z6VrVK64lZpg",
    "outputId": "378da965-b775-4602-a932-ad8f35a01f87"
   },
   "outputs": [
    {
     "data": {
      "text/latex": [
       "$\\displaystyle \\frac{7 \\pi}{81}$"
      ],
      "text/plain": [
       "7*pi/81"
      ]
     },
     "execution_count": 10,
     "metadata": {},
     "output_type": "execute_result"
    }
   ],
   "source": [
    "EPhiPhi = EPhiPhi.expand()\n",
    "integrate(EPhiPhi,(x,-oo,oo),(y,-oo,oo))"
   ]
  }
 ],
 "metadata": {
  "colab": {
   "provenance": []
  },
  "kernelspec": {
   "display_name": "Python 3 (ipykernel)",
   "language": "python",
   "name": "python3"
  },
  "language_info": {
   "codemirror_mode": {
    "name": "ipython",
    "version": 3
   },
   "file_extension": ".py",
   "mimetype": "text/x-python",
   "name": "python",
   "nbconvert_exporter": "python",
   "pygments_lexer": "ipython3",
   "version": "3.11.9"
  }
 },
 "nbformat": 4,
 "nbformat_minor": 4
}
